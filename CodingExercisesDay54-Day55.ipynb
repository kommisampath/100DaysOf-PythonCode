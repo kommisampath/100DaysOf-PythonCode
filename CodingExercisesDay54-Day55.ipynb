{
 "cells": [
  {
   "cell_type": "code",
   "execution_count": 1,
   "metadata": {},
   "outputs": [],
   "source": [
    "# day-54-1-exercise\n",
    "# Complete the code exercise by printing out the speed it takes to run the fast_function() vs the slow_function().\n",
    "# You will need to complete the speed_calc_decorator() function.\n",
    "\n",
    "# import time\n",
    "# current_time = time.time()\n",
    "# print(current_time)\n",
    "\n",
    "# def speed_calc_decorator():\n",
    "#     pass\n",
    "\n",
    "# def fast_function():\n",
    "#     for i in range(10000000):\n",
    "#         i * i\n",
    "        \n",
    "# def slow_function():\n",
    "#     for i in range(100000000):\n",
    "#         i * i"
   ]
  },
  {
   "cell_type": "code",
   "execution_count": 7,
   "metadata": {},
   "outputs": [
    {
     "name": "stdout",
     "output_type": "stream",
     "text": [
      "1611336270.3711827\n",
      "fast_function run speed: 0.6800358295440674\n",
      "slow_function run speed: 6.627013921737671\n"
     ]
    }
   ],
   "source": [
    "import time\n",
    "\n",
    "current_time = time.time()\n",
    "print(current_time)\n",
    "\n",
    "def speed_calc_decorator(func):\n",
    "    def wrapper():\n",
    "        # starting time\n",
    "        start = time.time()\n",
    "        \n",
    "        # execute the function\n",
    "        func()\n",
    "        \n",
    "        # ending time - starting time\n",
    "        duration = time.time() - start\n",
    "        print(f\"{func.__name__} run speed: {duration}\")\n",
    "    # return the wrapped function\n",
    "    return wrapper\n",
    "\n",
    "@speed_calc_decorator\n",
    "def fast_function():\n",
    "    for i in range(10000000):\n",
    "        i * i\n",
    "\n",
    "@speed_calc_decorator\n",
    "def slow_function():\n",
    "    for i in range(100000000):\n",
    "        i * i\n",
    "\n",
    "fast_function()\n",
    "slow_function()"
   ]
  },
  {
   "cell_type": "markdown",
   "metadata": {},
   "source": [
    "---"
   ]
  },
  {
   "cell_type": "code",
   "execution_count": 1,
   "metadata": {},
   "outputs": [],
   "source": [
    "# day-55-1-exercise\n",
    "# Create a logging_decorator() which is going to log the name of the function that was called,\n",
    "# the arguments it was given and finally the returned output."
   ]
  },
  {
   "cell_type": "code",
   "execution_count": 12,
   "metadata": {},
   "outputs": [
    {
     "name": "stdout",
     "output_type": "stream",
     "text": [
      "Function name: a_function\n",
      "Function args: (3, 4)\n",
      "Output: 7\n"
     ]
    }
   ],
   "source": [
    "# Create the logging_decorator() function 👇\n",
    "\n",
    "def logging_decorator(func):\n",
    "    def wrapper(*args):\n",
    "        print(f\"Function name: {func.__name__}\\nFunction args: {args}\\nOutput: {func(*args)}\")\n",
    "    return wrapper\n",
    "\n",
    "# Use the decorator 👇\n",
    "\n",
    "@logging_decorator\n",
    "def a_function(a, b):\n",
    "    return a + b\n",
    "    \n",
    "a_function(3, 4)"
   ]
  },
  {
   "cell_type": "code",
   "execution_count": null,
   "metadata": {},
   "outputs": [],
   "source": []
  }
 ],
 "metadata": {
  "kernelspec": {
   "display_name": "Python 3",
   "language": "python",
   "name": "python3"
  },
  "language_info": {
   "codemirror_mode": {
    "name": "ipython",
    "version": 3
   },
   "file_extension": ".py",
   "mimetype": "text/x-python",
   "name": "python",
   "nbconvert_exporter": "python",
   "pygments_lexer": "ipython3",
   "version": "3.8.5"
  }
 },
 "nbformat": 4,
 "nbformat_minor": 4
}
