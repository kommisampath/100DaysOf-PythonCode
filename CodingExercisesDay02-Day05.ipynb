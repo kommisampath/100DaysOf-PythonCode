{
 "cells": [
  {
   "cell_type": "code",
   "execution_count": 1,
   "metadata": {},
   "outputs": [],
   "source": [
    "# day-2-1-exercise\n",
    "# Write a program that adds the digits in a 2 digit number. e.g. if the input was 35, then the output should be 3 + 5 = 8"
   ]
  },
  {
   "cell_type": "code",
   "execution_count": 9,
   "metadata": {},
   "outputs": [
    {
     "name": "stdout",
     "output_type": "stream",
     "text": [
      "Type a two digit number: 25\n",
      "The sum of digits is 7.\n"
     ]
    }
   ],
   "source": [
    "# 🚨 Don't change the code below 👇\n",
    "two_digit_number = input(\"Type a two digit number: \")\n",
    "# 🚨 Don't change the code above 👆\n",
    "\n",
    "####################################\n",
    "#Write your code below this line 👇\n",
    "\n",
    "sum = 0\n",
    "\n",
    "# probably should check if the input really is an integer\n",
    "# should work for an integer with any number of digits, including zero\n",
    "for digit in two_digit_number:\n",
    "    sum += int(digit)\n",
    "    \n",
    "print(f\"The sum of digits is {sum}.\")"
   ]
  },
  {
   "cell_type": "code",
   "execution_count": 10,
   "metadata": {},
   "outputs": [],
   "source": [
    "# day-2-2-exercise\n",
    "# Write a program that calculates the Body Mass Index (BMI) from a user's weight and height."
   ]
  },
  {
   "cell_type": "code",
   "execution_count": 21,
   "metadata": {},
   "outputs": [
    {
     "name": "stdout",
     "output_type": "stream",
     "text": [
      "enter your height in m: 1.75\n",
      "enter your weight in kg: 80\n",
      "Your BMI is 26.\n"
     ]
    }
   ],
   "source": [
    "# 🚨 Don't change the code below 👇\n",
    "height = input(\"enter your height in m: \")\n",
    "weight = input(\"enter your weight in kg: \")\n",
    "# 🚨 Don't change the code above 👆\n",
    "\n",
    "#Write your code below this line 👇\n",
    "\n",
    "# again, probably should check if the inputs are the proper type\n",
    "bmi = int(float(weight) / (float(height) ** 2))\n",
    "print(f\"Your BMI is {bmi}.\")"
   ]
  },
  {
   "cell_type": "code",
   "execution_count": 18,
   "metadata": {},
   "outputs": [],
   "source": [
    "# day-2-3-exercise\n",
    "# Create a program using maths and f-Strings that tells us how many days, weeks, months we have left if we live\n",
    "# until 90 years old."
   ]
  },
  {
   "cell_type": "code",
   "execution_count": 23,
   "metadata": {},
   "outputs": [
    {
     "name": "stdout",
     "output_type": "stream",
     "text": [
      "What is your current age?65\n",
      "You have 9125 days, 1300 weeks, and 300 months left.\n"
     ]
    }
   ],
   "source": [
    "# 🚨 Don't change the code below 👇\n",
    "age = input(\"What is your current age?\")\n",
    "# 🚨 Don't change the code above 👆\n",
    "\n",
    "#Write your code below this line 👇\n",
    "\n",
    "# assuming that today is the user's birthday, since we only get the age in years\n",
    "years = 90 - int(age)\n",
    "days = years * 365\n",
    "weeks = years * 52\n",
    "months = years * 12\n",
    "\n",
    "print(f\"You have {days} days, {weeks} weeks, and {months} months left.\")"
   ]
  },
  {
   "cell_type": "markdown",
   "metadata": {},
   "source": [
    "---"
   ]
  },
  {
   "cell_type": "code",
   "execution_count": 1,
   "metadata": {},
   "outputs": [],
   "source": [
    "# day-3-1-exercise\n",
    "# Write a program that works out whether if a given number is an odd or even number."
   ]
  },
  {
   "cell_type": "code",
   "execution_count": 3,
   "metadata": {},
   "outputs": [
    {
     "name": "stdout",
     "output_type": "stream",
     "text": [
      "2 is even.\n",
      "6 is even.\n",
      "9 is odd.\n",
      "15 is odd.\n",
      "20 is even.\n"
     ]
    }
   ],
   "source": [
    "# 🚨 Don't change the code below 👇\n",
    "# number = int(input(\"Which number do you want to check? \"))\n",
    "# 🚨 Don't change the code above 👆\n",
    "\n",
    "#Write your code below this line 👇\n",
    "\n",
    "# just using a list because inputting values manually is tedious\n",
    "num_list = [2, 6, 9, 15, 20]\n",
    "for num in num_list:\n",
    "    if num % 2 == 0:\n",
    "        print(f\"{num} is even.\")\n",
    "    else:\n",
    "        print(f\"{num} is odd.\")"
   ]
  },
  {
   "cell_type": "code",
   "execution_count": 4,
   "metadata": {},
   "outputs": [],
   "source": [
    "# day-3-2-exercise\n",
    "# Write a program that interprets the Body Mass Index (BMI) based on a user's weight and height. (BMI Calculator 2.0)"
   ]
  },
  {
   "cell_type": "code",
   "execution_count": 9,
   "metadata": {},
   "outputs": [
    {
     "name": "stdout",
     "output_type": "stream",
     "text": [
      "Your BMI is 21.2, you have a normal weight.\n",
      "Your BMI is 36.5, you are clinically obese.\n",
      "Your BMI is 19.8, you have a normal weight.\n",
      "Your BMI is 29.4, you are overweight.\n"
     ]
    }
   ],
   "source": [
    "# 🚨 Don't change the code below 👇\n",
    "# height = float(input(\"enter your height in m: \"))\n",
    "# weight = float(input(\"enter your weight in kg: \"))\n",
    "# 🚨 Don't change the code above 👆\n",
    "\n",
    "#Write your code below this line 👇\n",
    "\n",
    "# using a list of tuples because inputting values manually is tedious\n",
    "tuples_list = [(1.75, 65), (1.85, 125), (1.68, 56), (1.77, 92)]\n",
    "\n",
    "for person in tuples_list:\n",
    "    # de-structure the tuple\n",
    "    height, weight = person\n",
    "    # no need to convert the value types now, since they are not strings\n",
    "    bmi = round(weight / (height ** 2), 1)\n",
    "    if bmi < 18.5:\n",
    "        print(f\"Your BMI is {bmi}, you are underweight.\")\n",
    "    elif bmi >= 18.5 and bmi < 25:\n",
    "        print(f\"Your BMI is {bmi}, you have a normal weight.\")\n",
    "    elif bmi >= 25 and bmi < 30:\n",
    "        print(f\"Your BMI is {bmi}, you are overweight.\")\n",
    "    elif bmi >= 30 and bmi < 35:\n",
    "        print(f\"Your BMI is {bmi}, you are obese.\")\n",
    "    else:\n",
    "        print(f\"Your BMI is {bmi}, you are clinically obese.\")\n"
   ]
  },
  {
   "cell_type": "code",
   "execution_count": 10,
   "metadata": {},
   "outputs": [],
   "source": [
    "# day-3-3-exercise\n",
    "# Write a program that works out whether if a given year is a leap year. A normal year has 365 days,\n",
    "# leap years have 366, with an extra day in February. "
   ]
  },
  {
   "cell_type": "code",
   "execution_count": 19,
   "metadata": {
    "scrolled": true
   },
   "outputs": [
    {
     "name": "stdout",
     "output_type": "stream",
     "text": [
      "1896 is a leap year.\n",
      "1900 is not a leap year.\n",
      "2020 is a leap year.\n",
      "2021 is not a leap year.\n",
      "3000 is not a leap year.\n"
     ]
    }
   ],
   "source": [
    "# 🚨 Don't change the code below 👇\n",
    "# year = int(input(\"Which year do you want to check? \"))\n",
    "# 🚨 Don't change the code above 👆\n",
    "\n",
    "#Write your code below this line 👇\n",
    "\n",
    "year_list = [1896, 1900, 2020, 2021, 3000]\n",
    "for year in year_list:\n",
    "    # on every year that is evenly divisible by 4 \n",
    "    # **except** every year that is evenly divisible by 100 \n",
    "    # **unless** the year is also evenly divisible by 400\n",
    "    if year % 4 == 0 and (year % 100 != 0 or year % 400 == 0):\n",
    "        print(f\"{year} is a leap year.\")\n",
    "    else:\n",
    "        print(f\"{year} is not a leap year.\")"
   ]
  },
  {
   "cell_type": "code",
   "execution_count": 20,
   "metadata": {},
   "outputs": [],
   "source": [
    "# day-3-4-exercise\n",
    "# Congratulations, you've got a job at Python Pizza. Your first job is to build an automatic pizza order program.\n",
    "# Based on a user's order, work out their final bill."
   ]
  },
  {
   "cell_type": "code",
   "execution_count": 26,
   "metadata": {},
   "outputs": [
    {
     "name": "stdout",
     "output_type": "stream",
     "text": [
      "Welcome to Python Pizza Deliveries!\n",
      "Your final bill is: $18\n",
      "Your final bill is: $21\n",
      "Your final bill is: $29\n",
      "Your final bill is: $25\n"
     ]
    }
   ],
   "source": [
    "# 🚨 Don't change the code below 👇\n",
    "print(\"Welcome to Python Pizza Deliveries!\")\n",
    "# size = input(\"What size pizza do you want? S, M, or L \")\n",
    "# add_pepperoni = input(\"Do you want pepperoni? Y or N \")\n",
    "# extra_cheese = input(\"Do you want extra cheese? Y or N \")\n",
    "# 🚨 Don't change the code above 👆\n",
    "\n",
    "#Write your code below this line 👇\n",
    "\n",
    "orders_list = [(\"S\", True, True), (\"M\", False, True), (\"L\", True, True), (\"L\", False, False)]\n",
    "\n",
    "for order in orders_list:\n",
    "    price = 0\n",
    "    size, pepperoni, extra_cheese = order\n",
    "    \n",
    "    if size == \"S\":\n",
    "        price += 15\n",
    "    elif size == \"M\":\n",
    "        price += 20\n",
    "    else:\n",
    "        price += 25\n",
    "    \n",
    "    if pepperoni:\n",
    "        if size == \"S\":\n",
    "            price += 2\n",
    "        else:\n",
    "            price += 3\n",
    "    \n",
    "    if extra_cheese:\n",
    "        price += 1\n",
    "    print(f\"Your final bill is: ${price}.\")"
   ]
  },
  {
   "cell_type": "code",
   "execution_count": 27,
   "metadata": {},
   "outputs": [],
   "source": [
    "# day-3-5-exercise\n",
    "# You are going to write a program that tests the compatibility between two people."
   ]
  },
  {
   "cell_type": "code",
   "execution_count": 32,
   "metadata": {},
   "outputs": [
    {
     "name": "stdout",
     "output_type": "stream",
     "text": [
      "Welcome to the Love Calculator!\n",
      "Your score is 53.\n",
      "Your score is 42, you are alright together.\n",
      "Your score is 73.\n"
     ]
    }
   ],
   "source": [
    "# 🚨 Don't change the code below 👇\n",
    "print(\"Welcome to the Love Calculator!\")\n",
    "# name1 = input(\"What is your name? \\n\")\n",
    "# name2 = input(\"What is their name? \\n\")\n",
    "# 🚨 Don't change the code above 👆\n",
    "\n",
    "#Write your code below this line 👇\n",
    "\n",
    "pairs_list = [(\"Angela Yu\", \"Jack Bauer\"), (\"Kanye West\", \"Kim Kardashian\"), (\"Brad Pitt\", \"Jennifer Aniston\")]\n",
    "\n",
    "for pair in pairs_list:\n",
    "    # Take both people's names and check for the number of times the letters in the word TRUE occurs. \n",
    "    # Then check for the number of times the letters in the word LOVE occurs.\n",
    "    # Then combine these numbers to make a 2 digit number.\n",
    "    score1 = 0\n",
    "    score2 = 0\n",
    "    \n",
    "    # merge the tuple into a single string, and turn each character into uppercase\n",
    "    names = \"\".join(pair).upper()\n",
    "    \n",
    "    for char in \"TRUE\":\n",
    "        score1 += names.count(char)\n",
    "    for char in \"LOVE\":\n",
    "        score2 += names.count(char)\n",
    "        \n",
    "    final_score_string = str(score1) + str(score2)\n",
    "    # convert it now for less typing later\n",
    "    final_score = int(final_score_string)\n",
    "    \n",
    "    # not sure whether \"=\" is supposed be included in either condition, so just skipping it\n",
    "    if final_score < 10 or final_score > 90:\n",
    "        print(f\"Your score is {final_score}, you go together like coke and mentos.\")\n",
    "    elif final_score > 40 and final_score < 50:\n",
    "        print(f\"Your score is {final_score}, you are alright together.\")\n",
    "    else:\n",
    "        print(f\"Your score is {final_score}.\")\n",
    "        "
   ]
  },
  {
   "cell_type": "markdown",
   "metadata": {},
   "source": [
    "---"
   ]
  },
  {
   "cell_type": "code",
   "execution_count": 1,
   "metadata": {},
   "outputs": [],
   "source": [
    "# day-4-1-exercise\n",
    "# You are going to write a virtual coin toss program. It will randomly tell the user \"Heads\" or \"Tails\"."
   ]
  },
  {
   "cell_type": "code",
   "execution_count": 3,
   "metadata": {},
   "outputs": [
    {
     "name": "stdout",
     "output_type": "stream",
     "text": [
      "Attempt 1: Tails.\n",
      "Attempt 2: Heads.\n",
      "Attempt 3: Tails.\n",
      "Attempt 4: Heads.\n",
      "Attempt 5: Heads.\n",
      "Attempt 6: Tails.\n",
      "Attempt 7: Tails.\n",
      "Attempt 8: Heads.\n",
      "Attempt 9: Heads.\n",
      "Attempt 10: Heads.\n"
     ]
    }
   ],
   "source": [
    "import random\n",
    "\n",
    "random.seed(123)\n",
    "\n",
    "\n",
    "# do 10 attempts\n",
    "for i in range(1, 11):\n",
    "    if random.randint(0, 1) == 1:\n",
    "        print(f\"Attempt {i}: Heads.\")\n",
    "    else:\n",
    "        print(f\"Attempt {i}: Tails.\")"
   ]
  },
  {
   "cell_type": "code",
   "execution_count": 4,
   "metadata": {},
   "outputs": [],
   "source": [
    "# day-4-2-exercise\n",
    "# You are going to write a program which will select a random name from a list of names.\n",
    "# The person selected will have to pay for everybody's food bill.\n",
    "# Important: You are not allowed to use the choice() function."
   ]
  },
  {
   "cell_type": "code",
   "execution_count": 18,
   "metadata": {},
   "outputs": [
    {
     "name": "stdout",
     "output_type": "stream",
     "text": [
      "Andrea will have to pay the bill.\n",
      "Bob will have to pay the bill.\n",
      "Bob will have to pay the bill.\n",
      "Claire will have to pay the bill.\n",
      "Esther will have to pay the bill.\n",
      "Claire will have to pay the bill.\n",
      "Freddie will have to pay the bill.\n",
      "Bob will have to pay the bill.\n",
      "Bob will have to pay the bill.\n",
      "Andrea will have to pay the bill.\n"
     ]
    }
   ],
   "source": [
    "# Split string method\n",
    "# names_string = input(\"Give me everybody's names, separated by a comma. \")\n",
    "# names = names_string.split(\", \")\n",
    "# 🚨 Don't change the code above 👆\n",
    "\n",
    "#Write your code below this line 👇\n",
    "\n",
    "# not actually needed, since already imported above, but including for completeness' sake\n",
    "import random\n",
    "\n",
    "\n",
    "# to avoid having to type manually\n",
    "names_string = \"Andrea, Bob, Claire, Daniel, Esther, Freddie\"\n",
    "names = names_string.split(\", \")\n",
    "\n",
    "# make 10 attempts\n",
    "for attempt in range(10):\n",
    "    # length - 1 because we have to start from 0 in order to use the value as the index\n",
    "    i = random.randint(0, len(names) - 1)\n",
    "    print(f\"{names[i]} will have to pay the bill.\")\n"
   ]
  },
  {
   "cell_type": "code",
   "execution_count": 19,
   "metadata": {},
   "outputs": [],
   "source": [
    "# day-4-3-exercise\n",
    "# You are going to write a program which will mark a spot with an X."
   ]
  },
  {
   "cell_type": "code",
   "execution_count": 31,
   "metadata": {},
   "outputs": [
    {
     "name": "stdout",
     "output_type": "stream",
     "text": [
      "['⬜️', '⬜️', '⬜️']\n",
      "['⬜️', '⬜️', '⬜️']\n",
      "['⬜️', '⬜️', '⬜️']\n",
      "\n",
      "The random position is: 12\n",
      "\n",
      "['⬜️', '⬜️', '⬜️']\n",
      "['⬛', '⬜️', '⬜️']\n",
      "['⬜️', '⬜️', '⬜️']\n"
     ]
    }
   ],
   "source": [
    "# 🚨 Don't change the code below 👇\n",
    "row1 = [\"⬜️\",\"⬜️\",\"⬜️\"]\n",
    "row2 = [\"⬜️\",\"⬜️\",\"⬜️\"]\n",
    "row3 = [\"⬜️\",\"⬜️\",\"⬜️\"]\n",
    "map = [row1, row2, row3]\n",
    "print(f\"{row1}\\n{row2}\\n{row3}\")\n",
    "# position = input(\"Where do you want to put the treasure? \")\n",
    "# 🚨 Don't change the code above 👆\n",
    "\n",
    "#Write your code below this row 👇\n",
    "\n",
    "# rather than manually entering the coordinates, might as well just make them random\n",
    "import random\n",
    "\n",
    "\n",
    "# they need to be 1-3 to match the input from the assignment\n",
    "position = str(random.randint(1, 3)) + str(random.randint(1, 3))\n",
    "# print out for reference\n",
    "print(f\"\\nThe random position is: {position}\\n\")\n",
    "\n",
    "# usually it would be a good idea to check that the string has a length of 2\n",
    "# and that the characters are actually numerals matching the dimensions of the list of lists (i.e. matrix)\n",
    "column = int(position[0]) - 1\n",
    "row = int(position[1]) - 1\n",
    "\n",
    "# the output is ugly if a simple \"x\" is used, this looks nicer\n",
    "map[row][column] = \"⬛\"\n",
    "\n",
    "#Write your code above this row 👆\n",
    "\n",
    "# 🚨 Don't change the code below 👇\n",
    "print(f\"{row1}\\n{row2}\\n{row3}\")"
   ]
  },
  {
   "cell_type": "markdown",
   "metadata": {},
   "source": [
    "---"
   ]
  },
  {
   "cell_type": "code",
   "execution_count": 1,
   "metadata": {},
   "outputs": [],
   "source": [
    "# day-5-1-exercise\n",
    "# You are going to write a program that calculates the average student height from a List of heights.\n",
    "# Important You should not use the sum() or len() functions in your answer."
   ]
  },
  {
   "cell_type": "code",
   "execution_count": 5,
   "metadata": {},
   "outputs": [
    {
     "name": "stdout",
     "output_type": "stream",
     "text": [
      "The average height of the 5 students is 171.4.\n"
     ]
    }
   ],
   "source": [
    "# 🚨 Don't change the code below 👇\n",
    "# student_heights = input(\"Input a list of student heights \").split()\n",
    "# for n in range(0, len(student_heights)):\n",
    "#   student_heights[n] = int(student_heights[n])\n",
    "# 🚨 Don't change the code above 👆\n",
    "\n",
    "\n",
    "#Write your code below this row 👇\n",
    "\n",
    "# again, to avoid manual input\n",
    "input_string = \"156 178 165 171 187\"\n",
    "\n",
    "# the code from above... except the loop that used len()\n",
    "student_heights = input_string.split()\n",
    "\n",
    "# calculate the total sum and count the students\n",
    "# note: this is \"sum\" is a variable, not the method \".sum()\"\n",
    "total_height = 0\n",
    "count = 0\n",
    "for height in student_heights:\n",
    "    # assuming that the strings are acceptable values (i.e. just numerals)\n",
    "    total_height += int(height)\n",
    "    count +=1\n",
    "\n",
    "# to avoid division by zero in case a manual input would be used\n",
    "if count == 0:\n",
    "    print(f\"Can't calculate the average height of {count} students.\")\n",
    "else:\n",
    "    avg_height = round(total_height / count, 2)\n",
    "    print(f\"The average height of the {count} students is {avg_height}.\")\n",
    "    "
   ]
  },
  {
   "cell_type": "code",
   "execution_count": 6,
   "metadata": {},
   "outputs": [],
   "source": [
    "# day-5-2-exercise\n",
    "# You are going to write a program that calculates the highest score from a List of scores.\n",
    "# Important you are not allowed to use the max or min functions. The output words must match the example. i.e"
   ]
  },
  {
   "cell_type": "code",
   "execution_count": 11,
   "metadata": {},
   "outputs": [
    {
     "name": "stdout",
     "output_type": "stream",
     "text": [
      "[78, 65, 89, 86, 55, 91, 64, 89]\n",
      "The highest score in the class is: 91\n"
     ]
    }
   ],
   "source": [
    "# 🚨 Don't change the code below 👇\n",
    "# student_scores = input(\"Input a list of student scores \").split()\n",
    "# for n in range(0, len(student_scores)):\n",
    "#   student_scores[n] = int(student_scores[n])\n",
    "# print(student_scores)\n",
    "# 🚨 Don't change the code above 👆\n",
    "\n",
    "#Write your code below this row 👇\n",
    "\n",
    "input_string = \"78 65 89 86 55 91 64 89\"\n",
    "\n",
    "# the code from above\n",
    "student_scores = input_string.split()\n",
    "for n in range(0, len(student_scores)):\n",
    "  student_scores[n] = int(student_scores[n])\n",
    "print(student_scores)\n",
    "\n",
    "# use a variable to store the highest value\n",
    "# start with the first one in the list, assume it is the highest unless a higher one is found\n",
    "max_score = student_scores[0]\n",
    "\n",
    "# if either of the remaining values is higher, replace it with that value\n",
    "# using \"for score in student_scores:\" would essentially compare the first value with itself, no need for that\n",
    "# so just loop over the rest\n",
    "for i in range(1, len(student_scores)):\n",
    "    if student_scores[i] > max_score:\n",
    "        max_score = student_scores[i]\n",
    "\n",
    "print(f\"The highest score in the class is: {max_score}\")\n"
   ]
  },
  {
   "cell_type": "code",
   "execution_count": 12,
   "metadata": {},
   "outputs": [],
   "source": [
    "# day-5-3-exercise\n",
    "# You are going to write a program that calculates the sum of all the even numbers from 1 to 100, including 2 and 100."
   ]
  },
  {
   "cell_type": "code",
   "execution_count": 13,
   "metadata": {},
   "outputs": [
    {
     "name": "stdout",
     "output_type": "stream",
     "text": [
      "The sum of all the even numbers from 1 to 100 (including) is: 2550\n"
     ]
    }
   ],
   "source": [
    "sum = 0\n",
    "\n",
    "for num in range(1, 101):\n",
    "    # if divisible by 2, it's a even number\n",
    "    if num % 2 == 0:\n",
    "        sum += num\n",
    "\n",
    "print(f\"The sum of all the even numbers from 1 to 100 (including) is: {sum}\")"
   ]
  },
  {
   "cell_type": "code",
   "execution_count": 14,
   "metadata": {},
   "outputs": [],
   "source": [
    "# day-5-4-exercise\n",
    "# You are going to write a program that automatically prints the solution to the FizzBuzz game."
   ]
  },
  {
   "cell_type": "code",
   "execution_count": 18,
   "metadata": {},
   "outputs": [
    {
     "name": "stdout",
     "output_type": "stream",
     "text": [
      "1\n",
      "2\n",
      "Fizz\n",
      "4\n",
      "Buzz\n",
      "Fizz\n",
      "7\n",
      "8\n",
      "Fizz\n",
      "Buzz\n",
      "11\n",
      "Fizz\n",
      "13\n",
      "14\n",
      "FizzBuzz\n",
      "16\n",
      "17\n",
      "Fizz\n",
      "19\n",
      "Buzz\n",
      "Fizz\n",
      "22\n",
      "23\n",
      "Fizz\n",
      "Buzz\n",
      "26\n",
      "Fizz\n",
      "28\n",
      "29\n",
      "FizzBuzz\n",
      "31\n",
      "32\n",
      "Fizz\n",
      "34\n",
      "Buzz\n",
      "Fizz\n",
      "37\n",
      "38\n",
      "Fizz\n",
      "Buzz\n",
      "41\n",
      "Fizz\n",
      "43\n",
      "44\n",
      "FizzBuzz\n",
      "46\n",
      "47\n",
      "Fizz\n",
      "49\n",
      "Buzz\n",
      "Fizz\n",
      "52\n",
      "53\n",
      "Fizz\n",
      "Buzz\n",
      "56\n",
      "Fizz\n",
      "58\n",
      "59\n",
      "FizzBuzz\n",
      "61\n",
      "62\n",
      "Fizz\n",
      "64\n",
      "Buzz\n",
      "Fizz\n",
      "67\n",
      "68\n",
      "Fizz\n",
      "Buzz\n",
      "71\n",
      "Fizz\n",
      "73\n",
      "74\n",
      "FizzBuzz\n",
      "76\n",
      "77\n",
      "Fizz\n",
      "79\n",
      "Buzz\n",
      "Fizz\n",
      "82\n",
      "83\n",
      "Fizz\n",
      "Buzz\n",
      "86\n",
      "Fizz\n",
      "88\n",
      "89\n",
      "FizzBuzz\n",
      "91\n",
      "92\n",
      "Fizz\n",
      "94\n",
      "Buzz\n",
      "Fizz\n",
      "97\n",
      "98\n",
      "Fizz\n",
      "Buzz\n"
     ]
    }
   ],
   "source": [
    "# Your program should print each number from 1 to 100 in turn.\n",
    "# When the number is divisible by 3 then instead of printing the number it should print \"Fizz\".\n",
    "# When the number is divisible by 5, then instead of printing the number it should print \"Buzz\". \n",
    "# And if the number is divisible by both 3 and 5 e.g. 15 then instead of the number it should print \"FizzBuzz\"\n",
    "\n",
    "for num in range(1, 101):\n",
    "    # initialize the output as an empty string and clear it with each iteration\n",
    "    output = \"\"\n",
    "    \n",
    "    # if divisible by 3, add \"Fizz\" to the output\n",
    "    if num % 3 == 0:\n",
    "        # output = \"Fizz\" would work just as well,\n",
    "        # but this way is slightly less \"destructive\" and would make potential bugs much easier to spot\n",
    "        output += \"Fizz\"\n",
    "        \n",
    "    # if divisible by 5, add \"Buzz\" to the output\n",
    "    if num % 5 == 0:\n",
    "        output += \"Buzz\"\n",
    "        \n",
    "    # if the output is still an empty string, add the number itself\n",
    "    if output == \"\":\n",
    "        # output = str(num) would work just as well here too\n",
    "        output += str(num)\n",
    "        \n",
    "    # print the output string\n",
    "    print(output)\n"
   ]
  },
  {
   "cell_type": "code",
   "execution_count": null,
   "metadata": {},
   "outputs": [],
   "source": []
  }
 ],
 "metadata": {
  "kernelspec": {
   "display_name": "Python 3",
   "language": "python",
   "name": "python3"
  },
  "language_info": {
   "codemirror_mode": {
    "name": "ipython",
    "version": 3
   },
   "file_extension": ".py",
   "mimetype": "text/x-python",
   "name": "python",
   "nbconvert_exporter": "python",
   "pygments_lexer": "ipython3",
   "version": "3.8.5"
  }
 },
 "nbformat": 4,
 "nbformat_minor": 4
}
