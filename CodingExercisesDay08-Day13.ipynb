{
 "cells": [
  {
   "cell_type": "code",
   "execution_count": 1,
   "metadata": {},
   "outputs": [],
   "source": [
    "# day-8-1-exercise\n",
    "# You are painting a wall. The instructions on the paint can says that 1 can of paint can cover 5 square meters of wall.\n",
    "# Given a random height and width of wall, calculate how many cans of paint you'll need to buy."
   ]
  },
  {
   "cell_type": "code",
   "execution_count": 8,
   "metadata": {},
   "outputs": [
    {
     "name": "stdout",
     "output_type": "stream",
     "text": [
      "Height of wall: 3\n",
      "Width of wall: 9\n",
      "You'll need 6 cans of paint.\n"
     ]
    }
   ],
   "source": [
    "#Write your code below this line 👇\n",
    "\n",
    "import math\n",
    "\n",
    "\n",
    "def paint_calc(height, width, cover):\n",
    "    cans = math.ceil((height * width) / cover)\n",
    "    print(f\"You'll need {cans} cans of paint.\")\n",
    "\n",
    "#Write your code above this line 👆\n",
    "# Define a function called paint_calc() so that the code below works.  height, width, cover :\n",
    "\n",
    "# 🚨 Don't change the code below 👇\n",
    "test_h = int(input(\"Height of wall: \"))\n",
    "test_w = int(input(\"Width of wall: \"))\n",
    "coverage = 5\n",
    "paint_calc(height=test_h, width=test_w, cover=coverage)"
   ]
  },
  {
   "cell_type": "code",
   "execution_count": 9,
   "metadata": {},
   "outputs": [],
   "source": [
    "# day-8-2-exercise\n",
    "# You need to write a function that checks whether if the number passed into it is a prime number or not.\n",
    "# e.g. 2 is a prime number because it's only divisible by 1 and 2.\n",
    "# But 4 is not a prime number because you can divide it by 1, 2 or 4."
   ]
  },
  {
   "cell_type": "code",
   "execution_count": 21,
   "metadata": {},
   "outputs": [
    {
     "name": "stdout",
     "output_type": "stream",
     "text": [
      "Check this number: 97\n",
      "It's a prime number.\n"
     ]
    }
   ],
   "source": [
    "#Write your code below this line 👇\n",
    "\n",
    "def prime_checker(number):\n",
    "    # assuming the input is a proper non-zero natural number\n",
    "    is_prime = True\n",
    "    \n",
    "    # 1 is NOT a prime number, it's specifically excluded\n",
    "    if number == 1:\n",
    "        is_prime = False\n",
    "    # also making a special case for 2, since it's the only even prime number\n",
    "    elif number == 2:\n",
    "        # could have just used \"pass\" here, but to be explicit:\n",
    "        is_prime = True\n",
    "    else:\n",
    "        # check all other integers up to that number (but not including)\n",
    "        for num in range(2, number):\n",
    "            if number % num == 0:\n",
    "                is_prime = False\n",
    "                # no need to check the rest of the numbers, so break out of the loop\n",
    "                break\n",
    "\n",
    "    if is_prime:\n",
    "        print(\"It's a prime number.\")\n",
    "    else:\n",
    "        print(\"It's not a prime number.\")\n",
    "\n",
    "#Write your code above this line 👆\n",
    "    \n",
    "#Do NOT change any of the code below👇\n",
    "n = int(input(\"Check this number: \"))\n",
    "prime_checker(number=n)"
   ]
  },
  {
   "cell_type": "markdown",
   "metadata": {},
   "source": [
    "---"
   ]
  },
  {
   "cell_type": "code",
   "execution_count": 1,
   "metadata": {},
   "outputs": [],
   "source": [
    "# day-9-1-exercise\n",
    "# You have access to a database of student_scores in the format of a dictionary.\n",
    "# The keys in student_scores are the names of the students and the values are their exam scores.\n",
    "# Write a program that converts their scores to grades."
   ]
  },
  {
   "cell_type": "code",
   "execution_count": 3,
   "metadata": {},
   "outputs": [
    {
     "name": "stdout",
     "output_type": "stream",
     "text": [
      "{'Harry': 'Exceeds Expectations', 'Ron': 'Acceptable', 'Hermione': 'Outstanding', 'Draco': 'Acceptable', 'Neville': 'Fail'}\n"
     ]
    }
   ],
   "source": [
    "student_scores = {\n",
    "  \"Harry\": 81,\n",
    "  \"Ron\": 78,\n",
    "  \"Hermione\": 99, \n",
    "  \"Draco\": 74,\n",
    "  \"Neville\": 62,\n",
    "}\n",
    "# 🚨 Don't change the code above 👆\n",
    "\n",
    "student_grades = {}\n",
    "for key in student_scores:\n",
    "    # set the value based on the score\n",
    "    if student_scores[key] > 90:\n",
    "        grade = \"Outstanding\"\n",
    "    elif student_scores[key] > 80 and student_scores[key] <= 90:\n",
    "        grade = \"Exceeds Expectations\"\n",
    "    elif student_scores[key] > 70 and student_scores[key] <= 80:\n",
    "        grade = \"Acceptable\"\n",
    "    else:\n",
    "        grade = \"Fail\"\n",
    "    # add the key-value pair to the new dictionary\n",
    "    student_grades[key] = grade\n",
    "\n",
    "# 🚨 Don't change the code below 👇\n",
    "print(student_grades)"
   ]
  },
  {
   "cell_type": "code",
   "execution_count": 4,
   "metadata": {},
   "outputs": [],
   "source": [
    "# day-9-2-exercise\n",
    "# You are going to write a program that adds to a travel_log.\n",
    "# You can see a travel_log which is a List that contains 2 Dictionaries.\n",
    "# Write a function that will work with the following line of code on line 21 to add the entry for Russia to the travel_log.\n",
    "# add_new_country(\"Russia\", 2, [\"Moscow\", \"Saint Petersburg\"])"
   ]
  },
  {
   "cell_type": "code",
   "execution_count": 5,
   "metadata": {},
   "outputs": [
    {
     "name": "stdout",
     "output_type": "stream",
     "text": [
      "[{'country': 'France', 'visits': 12, 'cities': ['Paris', 'Lille', 'Dijon']}, {'country': 'Germany', 'visits': 5, 'cities': ['Berlin', 'Hamburg', 'Stuttgart']}, {'country': 'Russia', 'visits': 2, 'cities': ['Moscow', 'Saint Petersburg']}]\n"
     ]
    }
   ],
   "source": [
    "travel_log = [\n",
    "{\n",
    "  \"country\": \"France\",\n",
    "  \"visits\": 12,\n",
    "  \"cities\": [\"Paris\", \"Lille\", \"Dijon\"]\n",
    "},\n",
    "{\n",
    "  \"country\": \"Germany\",\n",
    "  \"visits\": 5,\n",
    "  \"cities\": [\"Berlin\", \"Hamburg\", \"Stuttgart\"]\n",
    "},\n",
    "]\n",
    "#🚨 Do NOT change the code above\n",
    "\n",
    "#TODO: Write the function that will allow new countries\n",
    "#to be added to the travel_log. 👇\n",
    "\n",
    "def add_new_country(country_name, visit_count, city_list):\n",
    "    # create a new dictionary with the provided data\n",
    "    new_destination = {\n",
    "        \"country\": country_name,\n",
    "        \"visits\": visit_count,\n",
    "        \"cities\": city_list,\n",
    "    }\n",
    "    # add it to the list\n",
    "    travel_log.append(new_destination)\n",
    "\n",
    "#🚨 Do not change the code below\n",
    "add_new_country(\"Russia\", 2, [\"Moscow\", \"Saint Petersburg\"])\n",
    "print(travel_log)"
   ]
  },
  {
   "cell_type": "markdown",
   "metadata": {},
   "source": [
    "---"
   ]
  },
  {
   "cell_type": "code",
   "execution_count": 1,
   "metadata": {},
   "outputs": [],
   "source": [
    "# day-10-1-exercise\n",
    "# You are then going to create a function called days_in_month() which will take a year and a month as inputs\n",
    "# And it will use this information to work out the number of days in the month, then return that as the output"
   ]
  },
  {
   "cell_type": "code",
   "execution_count": 8,
   "metadata": {},
   "outputs": [
    {
     "name": "stdout",
     "output_type": "stream",
     "text": [
      "Enter a year: 2024\n",
      "Enter a month: 2\n",
      "29\n"
     ]
    }
   ],
   "source": [
    "# don't really care for amount of \"return\" statements and the parameter having the same name as the\n",
    "# variable outside the function, but leaving them in since they were part of the assignment\n",
    "def is_leap(year):\n",
    "    if year % 4 == 0:\n",
    "        if year % 100 == 0:\n",
    "            if year % 400 == 0:\n",
    "                return True\n",
    "            # the \"else:\" clause isn't really needed for these\n",
    "            return False\n",
    "        return True\n",
    "    return False\n",
    "\n",
    "\n",
    "# assuming proper inputs for these, i.e. months in range 1-12\n",
    "def days_in_month(yr, mo):\n",
    "    month_days = [31, 28, 31, 30, 31, 30, 31, 31, 30, 31, 30, 31] \n",
    "    # for February in a leap year\n",
    "    if mo == 2 and is_leap(yr):\n",
    "        # avoiding hard-coding the number\n",
    "        return month_days[1] + 1\n",
    "    # no need for the \"else:\" bit here either\n",
    "    return month_days[mo - 1]\n",
    "\n",
    "\n",
    "#🚨 Do NOT change any of the code below \n",
    "year = int(input(\"Enter a year: \"))\n",
    "month = int(input(\"Enter a month: \"))\n",
    "days = days_in_month(year, month)\n",
    "print(days)"
   ]
  },
  {
   "cell_type": "markdown",
   "metadata": {},
   "source": [
    "---"
   ]
  },
  {
   "cell_type": "code",
   "execution_count": 1,
   "metadata": {},
   "outputs": [],
   "source": [
    "# day-13-1-exercise\n",
    "# Debug Odd or Even\n",
    "\n",
    "# number = int(input(\"Which number do you want to check?\"))\n",
    "\n",
    "# if number % 2 = 0:\n",
    "#   print(\"This is an even number.\")\n",
    "# else:\n",
    "#   print(\"This is an odd number.\")"
   ]
  },
  {
   "cell_type": "code",
   "execution_count": 4,
   "metadata": {},
   "outputs": [
    {
     "name": "stdout",
     "output_type": "stream",
     "text": [
      "Which number do you want to check? 7\n",
      "This is an odd number.\n"
     ]
    }
   ],
   "source": [
    "# assuming a valid input\n",
    "# added an extra space at the end of the string to make it more readable\n",
    "number = int(input(\"Which number do you want to check? \"))\n",
    "\n",
    "# needs a comparison operator \"==\", rather than the \"=\" assignment\n",
    "if number % 2 == 0:\n",
    "    print(\"This is an even number.\")\n",
    "else:\n",
    "    print(\"This is an odd number.\")"
   ]
  },
  {
   "cell_type": "code",
   "execution_count": 5,
   "metadata": {},
   "outputs": [],
   "source": [
    "# day-13-2-exercise\n",
    "# Debug Leap Year\n",
    "\n",
    "# year = input(\"Which year do you want to check?\")\n",
    "\n",
    "# if year % 4 == 0:\n",
    "#   if year % 100 == 0:\n",
    "#     if year % 400 == 0:\n",
    "#       print(\"Leap year.\")\n",
    "#     else:\n",
    "#       print(\"Not leap year.\")\n",
    "#   else:\n",
    "#     print(\"Leap year.\")\n",
    "# else:\n",
    "#   print(\"Not leap year.\")"
   ]
  },
  {
   "cell_type": "code",
   "execution_count": 9,
   "metadata": {},
   "outputs": [
    {
     "name": "stdout",
     "output_type": "stream",
     "text": [
      "Which year do you want to check? 2020\n",
      "Leap year.\n"
     ]
    }
   ],
   "source": [
    "# assuming a valid input\n",
    "# need to convert it to INT\n",
    "# added an extra space at the end of the string to make it more readable\n",
    "year = int(input(\"Which year do you want to check? \"))\n",
    "\n",
    "if year % 4 == 0:\n",
    "    if year % 100 == 0:\n",
    "        if year % 400 == 0:\n",
    "            print(\"Leap year.\")\n",
    "        else:\n",
    "            print(\"Not leap year.\")\n",
    "    else:\n",
    "        print(\"Leap year.\")\n",
    "else:\n",
    "    print(\"Not leap year.\")  "
   ]
  },
  {
   "cell_type": "code",
   "execution_count": 10,
   "metadata": {},
   "outputs": [],
   "source": [
    "# day-13-3-exercise\n",
    "# Debug FizzBuzz\n",
    "\n",
    "# for number in range(1, 101):\n",
    "#   if number % 3 == 0 or number % 5 == 0:\n",
    "#     print(\"FizzBuzz\")\n",
    "#   if number % 3 == 0:\n",
    "#     print(\"Fizz\")\n",
    "#   if number % 5 == 0:\n",
    "#     print(\"Buzz\")\n",
    "#   else:\n",
    "#     print([number])"
   ]
  },
  {
   "cell_type": "code",
   "execution_count": 12,
   "metadata": {},
   "outputs": [
    {
     "name": "stdout",
     "output_type": "stream",
     "text": [
      "1\n",
      "2\n",
      "Fizz\n",
      "4\n",
      "Buzz\n",
      "Fizz\n",
      "7\n",
      "8\n",
      "Fizz\n",
      "Buzz\n",
      "11\n",
      "Fizz\n",
      "13\n",
      "14\n",
      "FizzBuzz\n",
      "16\n",
      "17\n",
      "Fizz\n",
      "19\n",
      "Buzz\n",
      "Fizz\n",
      "22\n",
      "23\n",
      "Fizz\n",
      "Buzz\n",
      "26\n",
      "Fizz\n",
      "28\n",
      "29\n",
      "FizzBuzz\n",
      "31\n",
      "32\n",
      "Fizz\n",
      "34\n",
      "Buzz\n",
      "Fizz\n",
      "37\n",
      "38\n",
      "Fizz\n",
      "Buzz\n",
      "41\n",
      "Fizz\n",
      "43\n",
      "44\n",
      "FizzBuzz\n",
      "46\n",
      "47\n",
      "Fizz\n",
      "49\n",
      "Buzz\n",
      "Fizz\n",
      "52\n",
      "53\n",
      "Fizz\n",
      "Buzz\n",
      "56\n",
      "Fizz\n",
      "58\n",
      "59\n",
      "FizzBuzz\n",
      "61\n",
      "62\n",
      "Fizz\n",
      "64\n",
      "Buzz\n",
      "Fizz\n",
      "67\n",
      "68\n",
      "Fizz\n",
      "Buzz\n",
      "71\n",
      "Fizz\n",
      "73\n",
      "74\n",
      "FizzBuzz\n",
      "76\n",
      "77\n",
      "Fizz\n",
      "79\n",
      "Buzz\n",
      "Fizz\n",
      "82\n",
      "83\n",
      "Fizz\n",
      "Buzz\n",
      "86\n",
      "Fizz\n",
      "88\n",
      "89\n",
      "FizzBuzz\n",
      "91\n",
      "92\n",
      "Fizz\n",
      "94\n",
      "Buzz\n",
      "Fizz\n",
      "97\n",
      "98\n",
      "Fizz\n",
      "Buzz\n"
     ]
    }
   ],
   "source": [
    "for number in range(1, 101):\n",
    "    # this needs to be \"and\", not \"or\"\n",
    "    if number % 3 == 0 and number % 5 == 0:\n",
    "        print(\"FizzBuzz\")\n",
    "    # these both need to be \"elif\", not \"if\"\n",
    "    elif number % 3 == 0:\n",
    "        print(\"Fizz\")\n",
    "    elif number % 5 == 0:\n",
    "        print(\"Buzz\")\n",
    "    else:\n",
    "        # no need for the brackets if we just want the variable\n",
    "        print(number)"
   ]
  },
  {
   "cell_type": "code",
   "execution_count": null,
   "metadata": {},
   "outputs": [],
   "source": []
  }
 ],
 "metadata": {
  "kernelspec": {
   "display_name": "Python 3",
   "language": "python",
   "name": "python3"
  },
  "language_info": {
   "codemirror_mode": {
    "name": "ipython",
    "version": 3
   },
   "file_extension": ".py",
   "mimetype": "text/x-python",
   "name": "python",
   "nbconvert_exporter": "python",
   "pygments_lexer": "ipython3",
   "version": "3.8.5"
  }
 },
 "nbformat": 4,
 "nbformat_minor": 4
}
