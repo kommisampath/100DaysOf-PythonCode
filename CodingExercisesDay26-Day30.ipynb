{
 "cells": [
  {
   "cell_type": "code",
   "execution_count": 1,
   "metadata": {},
   "outputs": [],
   "source": [
    "# day-26-1-exercise\n",
    "# You are going to write a List Comprehension to create a new list called squared_numbers.\n",
    "# This new list should contain every number in the list numbers but each number should be squared."
   ]
  },
  {
   "cell_type": "code",
   "execution_count": 3,
   "metadata": {},
   "outputs": [
    {
     "name": "stdout",
     "output_type": "stream",
     "text": [
      "[1, 1, 4, 9, 25, 64, 169, 441, 1156, 3025]\n"
     ]
    }
   ],
   "source": [
    "numbers = [1, 1, 2, 3, 5, 8, 13, 21, 34, 55]\n",
    "# 🚨 Do Not Change the code above 👆\n",
    "\n",
    "#Write your 1 line code 👇 below:\n",
    "\n",
    "# list comprehension: new_list = [new_item for item in list]\n",
    "squared_numbers = [n * n for n in numbers]\n",
    "\n",
    "#Write your code 👆 above:\n",
    "\n",
    "print(squared_numbers)"
   ]
  },
  {
   "cell_type": "code",
   "execution_count": 4,
   "metadata": {},
   "outputs": [],
   "source": [
    "# day-26-2-exercise\n",
    "# You are going to write a List Comprehension to create a new list called result.\n",
    "# This new list should only contain the even numbers from the list numbers.\n",
    "# DO NOT modify the List numbers directly. Try to use List Comprehension instead of a Loop."
   ]
  },
  {
   "cell_type": "code",
   "execution_count": 7,
   "metadata": {},
   "outputs": [
    {
     "name": "stdout",
     "output_type": "stream",
     "text": [
      "[2, 8, 34]\n"
     ]
    }
   ],
   "source": [
    "numbers = [1, 1, 2, 3, 5, 8, 13, 21, 34, 55]\n",
    "# 🚨 Do Not Change the code above\n",
    "\n",
    "#Write your 1 line code 👇 below:\n",
    "\n",
    "# new_list = [new_item for item in list if test]\n",
    "result = [n for n in numbers if n % 2 == 0]\n",
    "\n",
    "#Write your code 👆 above:\n",
    "\n",
    "print(result)"
   ]
  },
  {
   "cell_type": "code",
   "execution_count": 8,
   "metadata": {},
   "outputs": [],
   "source": [
    "# day-26-3-exercise\n",
    "# Take a look inside file1.txt and file2.txt. They each contain a bunch of numbers, each number on a new line.\n",
    "# You are going to create a list called result which contains the numbers that are common in both files.\n",
    "# IMPORTANT: The result should be a list that contains Integers, not Strings. Try to use List Comprehension instead of a Loop."
   ]
  },
  {
   "cell_type": "code",
   "execution_count": 11,
   "metadata": {},
   "outputs": [
    {
     "name": "stdout",
     "output_type": "stream",
     "text": [
      "[3, 6, 5, 33, 12, 7, 42, 13]\n"
     ]
    }
   ],
   "source": [
    "# with open(\"file1.txt\") as f1:\n",
    "#     list1 = f1.readlines()\n",
    "# with open(\"file2.txt\") as f2:\n",
    "#     list2 = f2.readlines()\n",
    "\n",
    "# by using the above, we get these lists... the line breaks left in on purpose\n",
    "list1 = [\"3\\n\", \"6\\n\", \"5\\n\", \"8\\n\", \"33\\n\", \"12\\n\", \"7\\n\", \"4\\n\", \"72\\n\", \"2\\n\", \"42\\n\", \"13\\n\"]\n",
    "list2 = [\"3\\n\", \"6\\n\", \"13\\n\", \"5\\n\", \"7\\n\", \"89\\n\", \"12\\n\", \"3\\n\", \"33\\n\", \"34\\n\", \"1\\n\", \"344\\n\", \"42\\n\"]\n",
    "\n",
    "# new_list = [new_item for item in list if test]\n",
    "result = [int(num.strip(\"\\n\")) for num in list1 if num in list2]\n",
    "\n",
    "# Write your code above 👆\n",
    "\n",
    "print(result)"
   ]
  },
  {
   "cell_type": "code",
   "execution_count": 1,
   "metadata": {},
   "outputs": [],
   "source": [
    "# day-26-4-exercise\n",
    "# You are going to use Dictionary Comprehension to create a dictionary called result that takes each word\n",
    "# in the given sentence and calculates the number of letters in each word.\n",
    "# Do NOT Create a dictionary directly. Try to use Dictionary Comprehension instead of a Loop."
   ]
  },
  {
   "cell_type": "code",
   "execution_count": 5,
   "metadata": {},
   "outputs": [
    {
     "name": "stdout",
     "output_type": "stream",
     "text": [
      "{'What': 4, 'is': 2, 'the': 3, 'Airspeed': 8, 'Velocity': 8, 'of': 2, 'an': 2, 'Unladen': 7, 'Swallow?': 8}\n"
     ]
    }
   ],
   "source": [
    "sentence = \"What is the Airspeed Velocity of an Unladen Swallow?\"\n",
    "# Don't change code above 👆\n",
    "\n",
    "# Write your code 👇 below:\n",
    "\n",
    "# dictionary comprehension: new_dict = {new_key: new_value for item in list}\n",
    "# this will count the question mark in \"Swallow?\" as a letter too\n",
    "result = {word: len(word) for word in sentence.split()}\n",
    "\n",
    "print(result)"
   ]
  },
  {
   "cell_type": "code",
   "execution_count": 6,
   "metadata": {},
   "outputs": [],
   "source": [
    "# day-26-5-exercise\n",
    "# You are going to use Dictionary Comprehension to create a dictionary called weather_f that\n",
    "# takes each temperature in degrees Celsius and converts it into degrees Fahrenheit.\n",
    "# Do NOT Create a dictionary directly. Try to use Dictionary Comprehension instead of a Loop."
   ]
  },
  {
   "cell_type": "code",
   "execution_count": 10,
   "metadata": {},
   "outputs": [
    {
     "name": "stdout",
     "output_type": "stream",
     "text": [
      "{'Monday': 53.6, 'Tuesday': 57.2, 'Wednesday': 59.0, 'Thursday': 57.2, 'Friday': 69.8, 'Saturday': 71.6, 'Sunday': 75.2}\n"
     ]
    }
   ],
   "source": [
    "weather_c = {\n",
    "    \"Monday\": 12,\n",
    "    \"Tuesday\": 14,\n",
    "    \"Wednesday\": 15,\n",
    "    \"Thursday\": 14,\n",
    "    \"Friday\": 21,\n",
    "    \"Saturday\": 22,\n",
    "    \"Sunday\": 24,\n",
    "}\n",
    "# 🚨 Don't change code above 👆\n",
    "\n",
    "# Write your code 👇 below:\n",
    "\n",
    "# new_dict = {new_key: new_value for (key, value) in dictionary.items()}\n",
    "# new_dict = {new_key: new_value for (key, value) in dictionary.items() if test}\n",
    "# included round() to make the results look more uniform\n",
    "weather_f = {day: round(temp * 1.8 + 32, 1) for (day, temp) in weather_c.items()}\n",
    "\n",
    "print(weather_f)"
   ]
  },
  {
   "cell_type": "markdown",
   "metadata": {},
   "source": [
    "---"
   ]
  },
  {
   "cell_type": "code",
   "execution_count": 1,
   "metadata": {},
   "outputs": [],
   "source": [
    "# day-30-1-exercise\n",
    "# We've got some buggy code. Try running the code. The code will crash and give you an IndexError.\n",
    "# This is because we're looking through the list of fruits for an index that is out of range.\n",
    "# Use what you've learnt about exception handling to prevent the program from crashing.\n",
    "# If the user enters something that is out of range just print a default output of \"Fruit pie\"."
   ]
  },
  {
   "cell_type": "code",
   "execution_count": 11,
   "metadata": {},
   "outputs": [
    {
     "name": "stdout",
     "output_type": "stream",
     "text": [
      "Fruit pie\n"
     ]
    }
   ],
   "source": [
    "# fruits = [\"Apple\", \"Pear\", \"Orange\"]\n",
    "\n",
    "# def make_pie(index):\n",
    "#     fruit = fruits[index]\n",
    "#     print(fruit + \" pie\")\n",
    "\n",
    "# make_pie(4)\n",
    "\n",
    "def make_pie(index):\n",
    "    try:\n",
    "        fruit = fruits[index]\n",
    "    except IndexError:\n",
    "        print(\"Fruit pie\")\n",
    "    else:\n",
    "        print(fruit + \" pie\")\n",
    "\n",
    "        \n",
    "fruits = [\"Apple\", \"Pear\", \"Orange\"]\n",
    "\n",
    "make_pie(4)"
   ]
  },
  {
   "cell_type": "code",
   "execution_count": 12,
   "metadata": {},
   "outputs": [],
   "source": [
    "# day-30-2-exercise\n",
    "# We've got some buggy code, try running the code. The code will crash and give you a KeyError.\n",
    "# This is because some of the posts in the facebook_posts don't have any \"Likes\".\n",
    "# Use what you've learnt about exception handling to prevent the program from crashing."
   ]
  },
  {
   "cell_type": "code",
   "execution_count": 13,
   "metadata": {},
   "outputs": [
    {
     "name": "stdout",
     "output_type": "stream",
     "text": [
      "86\n"
     ]
    }
   ],
   "source": [
    "# facebook_posts = [\n",
    "#     {'Likes': 21, 'Comments': 2}, \n",
    "#     {'Likes': 13, 'Comments': 2, 'Shares': 1}, \n",
    "#     {'Likes': 33, 'Comments': 8, 'Shares': 3}, \n",
    "#     {'Comments': 4, 'Shares': 2}, \n",
    "#     {'Comments': 1, 'Shares': 1}, \n",
    "#     {'Likes': 19, 'Comments': 3}\n",
    "# ]\n",
    "\n",
    "# total_likes = 0\n",
    "\n",
    "# for post in facebook_posts:\n",
    "#     total_likes = total_likes + post['Likes']\n",
    "\n",
    "# print(total_likes)\n",
    "\n",
    "facebook_posts = [\n",
    "    {'Likes': 21, 'Comments': 2}, \n",
    "    {'Likes': 13, 'Comments': 2, 'Shares': 1}, \n",
    "    {'Likes': 33, 'Comments': 8, 'Shares': 3}, \n",
    "    {'Comments': 4, 'Shares': 2}, \n",
    "    {'Comments': 1, 'Shares': 1}, \n",
    "    {'Likes': 19, 'Comments': 3}\n",
    "]\n",
    "\n",
    "total_likes = 0\n",
    "\n",
    "for post in facebook_posts:\n",
    "    try:\n",
    "        total_likes = total_likes + post['Likes']\n",
    "    except KeyError:\n",
    "        # no need to do anything\n",
    "        pass\n",
    "\n",
    "print(total_likes)"
   ]
  },
  {
   "cell_type": "code",
   "execution_count": null,
   "metadata": {},
   "outputs": [],
   "source": []
  }
 ],
 "metadata": {
  "kernelspec": {
   "display_name": "Python 3",
   "language": "python",
   "name": "python3"
  },
  "language_info": {
   "codemirror_mode": {
    "name": "ipython",
    "version": 3
   },
   "file_extension": ".py",
   "mimetype": "text/x-python",
   "name": "python",
   "nbconvert_exporter": "python",
   "pygments_lexer": "ipython3",
   "version": "3.8.5"
  }
 },
 "nbformat": 4,
 "nbformat_minor": 4
}
